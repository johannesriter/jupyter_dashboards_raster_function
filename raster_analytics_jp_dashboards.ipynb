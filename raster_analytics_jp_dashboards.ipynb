{
 "cells": [
  {
   "cell_type": "code",
   "execution_count": 1,
   "source": [
    "from arcgis.gis import GIS\r\n",
    "from arcgis.raster.functions import *\r\n",
    "from arcgis.geocoding import geocode\r\n",
    "from arcgis.features import FeatureLayer\r\n",
    "from datetime import datetime\r\n",
    "from ipywidgets import widgets\r\n",
    "from IPython.display import clear_output"
   ],
   "outputs": [],
   "metadata": {}
  },
  {
   "cell_type": "code",
   "execution_count": 4,
   "source": [
    "# Connect to ArcGIS Online (as an anonymous user)\r\n",
    "\r\n",
    "gis = GIS()\r\n",
    "\r\n",
    "landsat_item = gis.content.search(\"Landsat Multispectral tags:'Landsat on AWS', 'landsat 8', 'Multispectral', 'Multitemporal', 'imagery', 'temporal', 'MS'\", 'Imagery Layer')[0]\r\n",
    "landsat = landsat_item.layers[0]"
   ],
   "outputs": [],
   "metadata": {}
  },
  {
   "cell_type": "markdown",
   "source": [
    "## Create a Map & Add Landsat Layers ##"
   ],
   "metadata": {}
  },
  {
   "cell_type": "code",
   "execution_count": 10,
   "source": [
    "map = gis.map(\"Semarang, ID\")\r\n",
    "map"
   ],
   "outputs": [
    {
     "output_type": "display_data",
     "data": {
      "application/vnd.jupyter.widget-view+json": {
       "version_major": 2,
       "version_minor": 0,
       "model_id": "dcc67a9164e94506955163d2b94af961"
      },
      "text/plain": [
       "MapView(layout=Layout(height='400px', width='100%'))"
      ]
     },
     "metadata": {}
    },
    {
     "output_type": "display_data",
     "data": {
      "text/html": [
       "<div class=\"map-static-img-preview-ddbd13ff-2ba2-4727-8c6b-55e23dd51f27\"><img src=\"\"></img></div>"
      ],
      "text/plain": [
       "<IPython.core.display.HTML object>"
      ]
     },
     "metadata": {}
    },
    {
     "output_type": "display_data",
     "data": {
      "text/html": [
       "<div class=\"map-html-embed-preview-ddbd13ff-2ba2-4727-8c6b-55e23dd51f27\"></div>"
      ],
      "text/plain": [
       "<IPython.core.display.HTML object>"
      ]
     },
     "metadata": {}
    }
   ],
   "metadata": {}
  },
  {
   "cell_type": "code",
   "execution_count": 11,
   "source": [
    "map.add_layer(landsat)"
   ],
   "outputs": [],
   "metadata": {}
  },
  {
   "cell_type": "code",
   "execution_count": null,
   "source": [],
   "outputs": [],
   "metadata": {}
  }
 ],
 "metadata": {
  "orig_nbformat": 4,
  "language_info": {
   "name": "python",
   "version": "3.7.10",
   "mimetype": "text/x-python",
   "codemirror_mode": {
    "name": "ipython",
    "version": 3
   },
   "pygments_lexer": "ipython3",
   "nbconvert_exporter": "python",
   "file_extension": ".py"
  },
  "kernelspec": {
   "name": "python3",
   "display_name": "Python 3.7.10 64-bit (conda)"
  },
  "interpreter": {
   "hash": "ec0a4d0d658ac8f4d398704f5d0b1691cf2285588186a134b75490432829ef13"
  }
 },
 "nbformat": 4,
 "nbformat_minor": 2
}