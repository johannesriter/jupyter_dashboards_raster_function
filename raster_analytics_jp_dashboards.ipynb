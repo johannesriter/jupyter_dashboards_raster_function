{
 "cells": [
  {
   "cell_type": "code",
   "execution_count": 1,
   "source": [
    "from arcgis.gis import GIS\r\n",
    "from arcgis.raster.functions import *\r\n",
    "from arcgis.geocoding import geocode\r\n",
    "from arcgis.features import FeatureLayer\r\n",
    "from datetime import datetime\r\n",
    "from ipywidgets import widgets\r\n",
    "from IPython.display import clear_output"
   ],
   "outputs": [],
   "metadata": {
    "extensions": {
     "jupyter_dashboards": {
      "version": 1,
      "views": {
       "grid_default": {},
       "report_default": {
        "hidden": true
       }
      }
     }
    }
   }
  },
  {
   "cell_type": "code",
   "execution_count": 2,
   "source": [
    "# Connect to ArcGIS Online (as an anonymous user)\r\n",
    "\r\n",
    "gis = GIS()\r\n",
    "\r\n",
    "landsat_item = gis.content.search(\"Landsat Multispectral tags:'Landsat on AWS', 'landsat 8', 'Multispectral', 'Multitemporal', 'imagery', 'temporal', 'MS'\", 'Imagery Layer')[0]\r\n",
    "landsat = landsat_item.layers[0]"
   ],
   "outputs": [],
   "metadata": {
    "extensions": {
     "jupyter_dashboards": {
      "version": 1,
      "views": {
       "grid_default": {},
       "report_default": {
        "hidden": true
       }
      }
     }
    }
   }
  },
  {
   "cell_type": "markdown",
   "source": [
    "## Create a Map & Add Landsat Layers ##"
   ],
   "metadata": {
    "extensions": {
     "jupyter_dashboards": {
      "version": 1,
      "views": {
       "grid_default": {},
       "report_default": {
        "hidden": true
       }
      }
     }
    }
   }
  },
  {
   "cell_type": "code",
   "execution_count": 3,
   "source": [
    "map = gis.map(\"Semarang, ID\")\r\n",
    "map"
   ],
   "outputs": [
    {
     "output_type": "display_data",
     "data": {
      "application/vnd.jupyter.widget-view+json": {
       "model_id": "befc2681db5843a0b282a034f9b16d20",
       "version_major": 2,
       "version_minor": 0
      },
      "text/plain": [
       "MapView(layout=Layout(height='400px', width='100%'))"
      ]
     },
     "metadata": {}
    },
    {
     "output_type": "display_data",
     "data": {
      "text/html": [
       "<div class=\"map-static-img-preview-83d9567b-407b-491e-936f-a6107a9064e5\"><img src=\"\"></img></div>"
      ],
      "text/plain": [
       "<IPython.core.display.HTML object>"
      ]
     },
     "metadata": {}
    },
    {
     "output_type": "display_data",
     "data": {
      "text/html": [
       "<div class=\"map-html-embed-preview-83d9567b-407b-491e-936f-a6107a9064e5\"></div>"
      ],
      "text/plain": [
       "<IPython.core.display.HTML object>"
      ]
     },
     "metadata": {}
    }
   ],
   "metadata": {
    "extensions": {
     "jupyter_dashboards": {
      "version": 1,
      "views": {
       "grid_default": {},
       "report_default": {
        "hidden": false
       }
      }
     }
    }
   }
  },
  {
   "cell_type": "code",
   "execution_count": 4,
   "source": [
    "map.add_layer(landsat)"
   ],
   "outputs": [],
   "metadata": {
    "extensions": {
     "jupyter_dashboards": {
      "version": 1,
      "views": {
       "grid_default": {},
       "report_default": {
        "hidden": true
       }
      }
     }
    }
   }
  },
  {
   "cell_type": "markdown",
   "source": [
    "## Get RFTs from Landsat Service ##"
   ],
   "metadata": {
    "extensions": {
     "jupyter_dashboards": {
      "version": 1,
      "views": {
       "grid_default": {},
       "report_default": {
        "hidden": true
       }
      }
     }
    }
   }
  },
  {
   "cell_type": "code",
   "execution_count": 5,
   "source": [
    "rfts = []\r\n",
    "for idx,props in enumerate(landsat.properties['rasterFunctionInfos']):\r\n",
    "    rfts.append(landsat.properties['rasterFunctionInfos'][idx]['name'])"
   ],
   "outputs": [],
   "metadata": {
    "extensions": {
     "jupyter_dashboards": {
      "version": 1,
      "views": {
       "grid_default": {},
       "report_default": {
        "hidden": true
       }
      }
     }
    }
   }
  },
  {
   "cell_type": "markdown",
   "source": [
    "## Create a Dropdown from the RFTs ##"
   ],
   "metadata": {
    "extensions": {
     "jupyter_dashboards": {
      "version": 1,
      "views": {
       "grid_default": {},
       "report_default": {
        "hidden": true
       }
      }
     }
    }
   }
  },
  {
   "cell_type": "code",
   "execution_count": 6,
   "source": [
    "rft_select = widgets.Dropdown(\r\n",
    "    options=rfts,\r\n",
    "    value='None',\r\n",
    "    description='Raster Function',\r\n",
    "    disabled=False,\r\n",
    ")\r\n",
    "\r\n",
    "def on_rft_change(change):\r\n",
    "    if change['type'] == 'change' and change['name'] == 'value':\r\n",
    "        map.remove_layers()\r\n",
    "        map.add_layer(landsat, {\"imageServiceParameters\" :{ \"renderingRule\": {\r\n",
    "\"rasterFunction\": rft_select.value}}})\r\n",
    "        \r\n",
    "rft_select.observe(on_rft_change)\r\n",
    "display(rft_select)"
   ],
   "outputs": [
    {
     "output_type": "display_data",
     "data": {
      "application/vnd.jupyter.widget-view+json": {
       "model_id": "6337998619ff48aaa941031e7899f818",
       "version_major": 2,
       "version_minor": 0
      },
      "text/plain": [
       "Dropdown(description='Raster Function', index=20, options=('Agriculture with DRA', 'Bathymetric with DRA', 'Co…"
      ]
     },
     "metadata": {}
    }
   ],
   "metadata": {
    "extensions": {
     "jupyter_dashboards": {
      "version": 1,
      "views": {
       "grid_default": {},
       "report_default": {
        "hidden": false
       }
      }
     }
    }
   }
  },
  {
   "cell_type": "markdown",
   "source": [
    "## Add Button for Initializing a Raster Analytics Process ##"
   ],
   "metadata": {
    "extensions": {
     "jupyter_dashboards": {
      "version": 1,
      "views": {
       "grid_default": {},
       "report_default": {
        "hidden": true
       }
      }
     }
    }
   }
  },
  {
   "cell_type": "code",
   "execution_count": 7,
   "source": [
    "def on_button_click(b):\r\n",
    "    clear_output()\r\n",
    "    print(\"Job submitted at \" + f\"{datetime.now():%Y-%m-%d %H:%M:%S}\")\r\n",
    "    \r\n",
    "button = widgets.Button(description=\"Run Raster Analytics\",\r\n",
    "                       disabled=False,\r\n",
    "                       button_style='success',\r\n",
    "                       tooltip='Kick Off a Raster Analytics Job',\r\n",
    "                       icon='check')\r\n",
    "\r\n",
    "display(button)\r\n",
    "button.on_click(on_button_click)"
   ],
   "outputs": [
    {
     "output_type": "stream",
     "name": "stdout",
     "text": [
      "Job submitted at 2021-09-28 16:35:03\n"
     ]
    }
   ],
   "metadata": {
    "extensions": {
     "jupyter_dashboards": {
      "version": 1,
      "views": {
       "grid_default": {},
       "report_default": {
        "hidden": false
       }
      }
     }
    }
   }
  },
  {
   "cell_type": "code",
   "execution_count": null,
   "source": [],
   "outputs": [],
   "metadata": {
    "extensions": {
     "jupyter_dashboards": {
      "version": 1,
      "views": {
       "grid_default": {},
       "report_default": {
        "hidden": true
       }
      }
     }
    }
   }
  }
 ],
 "metadata": {
  "extensions": {
   "jupyter_dashboards": {
    "activeView": "report_default",
    "version": 1,
    "views": {
     "grid_default": {
      "name": "grid",
      "type": "grid"
     },
     "report_default": {
      "name": "report",
      "type": "report"
     }
    }
   }
  },
  "interpreter": {
   "hash": "ec0a4d0d658ac8f4d398704f5d0b1691cf2285588186a134b75490432829ef13"
  },
  "kernelspec": {
   "name": "python3",
   "display_name": "Python 3.7.10 64-bit (conda)"
  },
  "language_info": {
   "codemirror_mode": {
    "name": "ipython",
    "version": 3
   },
   "file_extension": ".py",
   "mimetype": "text/x-python",
   "name": "python",
   "nbconvert_exporter": "python",
   "pygments_lexer": "ipython3",
   "version": "3.7.10"
  }
 },
 "nbformat": 4,
 "nbformat_minor": 2
}